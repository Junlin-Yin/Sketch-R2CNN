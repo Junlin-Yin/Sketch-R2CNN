{
 "cells": [
  {
   "cell_type": "markdown",
   "metadata": {},
   "source": [
    "## Initialization"
   ]
  },
  {
   "cell_type": "code",
   "execution_count": 1,
   "metadata": {},
   "outputs": [],
   "source": [
    "import numpy as np\n",
    "import os\n",
    "import sys\n",
    "from pathlib import Path\n",
    "import pickle\n",
    "#import skimage\n",
    "#from skimage import io as skio\n",
    "#from skimage import measure as skm\n",
    "# Ignore warnings\n",
    "import warnings\n",
    "warnings.filterwarnings(\"ignore\")\n",
    "\n",
    "_project_folder_ = os.path.realpath(os.path.abspath('..'))\n",
    "if _project_folder_ not in sys.path:\n",
    "    sys.path.insert(0, _project_folder_)\n",
    "\n",
    "from data.sketch_util import SketchUtil\n"
   ]
  },
  {
   "cell_type": "code",
   "execution_count": 2,
   "metadata": {},
   "outputs": [
    {
     "name": "stdout",
     "output_type": "stream",
     "text": "Output root already exists.\n"
    }
   ],
   "source": [
    "# Arguments\n",
    "# dataset_root = '/media/WD1TDisk/craiglee/TUBerlin/svg'\n",
    "# output_root = '/media/WD1TDisk/craiglee/TUBerlin'\n",
    "dataset_root = 'I:/TU-Berlin/svg'\n",
    "output_root = 'I:/TU-Berlin'\n",
    "\n",
    "num_folds = 3\n",
    "\n",
    "if not os.path.exists(output_root):\n",
    "    os.makedirs(output_root)\n",
    "else:\n",
    "    print('Output root already exists.')\n"
   ]
  },
  {
   "cell_type": "markdown",
   "metadata": {},
   "source": [
    "## Helper functions"
   ]
  },
  {
   "cell_type": "code",
   "execution_count": 3,
   "metadata": {},
   "outputs": [],
   "source": [
    "def list_categories(root_folder):\n",
    "    res = list()\n",
    "    for subfolder in Path(root_folder).iterdir():\n",
    "        if subfolder.is_dir() and not subfolder.name.startswith('.'):\n",
    "            res.append(subfolder.name)\n",
    "    return sorted(res)\n",
    "\n",
    "def list_svg_files(root_folder):\n",
    "    svg_list = [p.name for p in list(Path(root_folder).glob('*.svg'))]\n",
    "    return sorted(svg_list)\n",
    "\n",
    "def strokes_to_points3(strokes):\n",
    "    states = list()\n",
    "    for stroke in strokes:\n",
    "        state = np.zeros((len(stroke),), np.float32)\n",
    "        state[-1] = 1\n",
    "        states.append(np.expand_dims(state, axis=1))\n",
    "    res = np.concatenate((np.concatenate(strokes), np.concatenate(states)), axis=1)\n",
    "    return res\n",
    "    "
   ]
  },
  {
   "cell_type": "markdown",
   "metadata": {},
   "source": [
    "## Data processing"
   ]
  },
  {
   "cell_type": "code",
   "execution_count": 5,
   "metadata": {},
   "outputs": [
    {
     "name": "stdout",
     "output_type": "stream",
     "text": "Number of categories: 250\nProcessing 0 - airplane\n  Max number of points = 441\nProcessing 1 - alarm clock\n  Max number of points = 445\nProcessing 2 - angel\n  Max number of points = 445\nProcessing 3 - ant\n  Max number of points = 446\nProcessing 4 - apple\n  Max number of points = 446\nProcessing 5 - arm\n  Max number of points = 446\nProcessing 6 - armchair\n  Max number of points = 448\nProcessing 7 - ashtray\n  Max number of points = 448\nProcessing 8 - axe\n  Max number of points = 448\nProcessing 9 - backpack\n  Max number of points = 448\nProcessing 10 - banana\n  Max number of points = 448\nProcessing 11 - barn\n  Max number of points = 448\nProcessing 12 - baseball bat\n  Max number of points = 448\nProcessing 13 - basket\n  Max number of points = 448\nProcessing 14 - bathtub\n  Max number of points = 448\nProcessing 15 - bear (animal)\n  Max number of points = 448\nProcessing 16 - bed\n  Max number of points = 448\nProcessing 17 - bee\n  Max number of points = 448\nProcessing 18 - beer-mug\n  Max number of points = 448\nProcessing 19 - bell\n  Max number of points = 448\nProcessing 20 - bench\n  Max number of points = 448\nProcessing 21 - bicycle\n  Max number of points = 448\nProcessing 22 - binoculars\n  Max number of points = 448\nProcessing 23 - blimp\n  Max number of points = 448\nProcessing 24 - book\n  Max number of points = 448\nProcessing 25 - bookshelf\n  Max number of points = 448\nProcessing 26 - boomerang\n  Max number of points = 448\nProcessing 27 - bottle opener\n  Max number of points = 448\nProcessing 28 - bowl\n  Max number of points = 448\nProcessing 29 - brain\n  Max number of points = 448\nProcessing 30 - bread\n  Max number of points = 448\nProcessing 31 - bridge\n  Max number of points = 448\nProcessing 32 - bulldozer\n  Max number of points = 448\nProcessing 33 - bus\n  Max number of points = 448\nProcessing 34 - bush\n  Max number of points = 448\nProcessing 35 - butterfly\n  Max number of points = 448\nProcessing 36 - cabinet\n  Max number of points = 448\nProcessing 37 - cactus\n  Max number of points = 448\nProcessing 38 - cake\n  Max number of points = 448\nProcessing 39 - calculator\n  Max number of points = 448\nProcessing 40 - camel\n  Max number of points = 448\nProcessing 41 - camera\n  Max number of points = 448\nProcessing 42 - candle\n  Max number of points = 448\nProcessing 43 - cannon\n  Max number of points = 448\nProcessing 44 - canoe\n  Max number of points = 448\nProcessing 45 - car (sedan)\n  Max number of points = 448\nProcessing 46 - carrot\n  Max number of points = 448\nProcessing 47 - castle\n  Max number of points = 448\nProcessing 48 - cat\n  Max number of points = 448\nProcessing 49 - cell phone\n  Max number of points = 448\nProcessing 50 - chair\n  Max number of points = 448\nProcessing 51 - chandelier\n  Max number of points = 448\nProcessing 52 - church\n  Max number of points = 448\nProcessing 53 - cigarette\n  Max number of points = 448\nProcessing 54 - cloud\n  Max number of points = 448\nProcessing 55 - comb\n  Max number of points = 448\nProcessing 56 - computer monitor\n  Max number of points = 448\nProcessing 57 - computer-mouse\n  Max number of points = 448\nProcessing 58 - couch\n  Max number of points = 448\nProcessing 59 - cow\n  Max number of points = 448\nProcessing 60 - crab\n  Max number of points = 448\nProcessing 61 - crane (machine)\n  Max number of points = 448\nProcessing 62 - crocodile\n  Max number of points = 448\nProcessing 63 - crown\n  Max number of points = 448\nProcessing 64 - cup\n  Max number of points = 448\nProcessing 65 - diamond\n  Max number of points = 448\nProcessing 66 - dog\n  Max number of points = 448\nProcessing 67 - dolphin\n  Max number of points = 448\nProcessing 68 - donut\n  Max number of points = 448\nProcessing 69 - door\n  Max number of points = 448\nProcessing 70 - door handle\n  Max number of points = 448\nProcessing 71 - dragon\n  Max number of points = 448\nProcessing 72 - duck\n  Max number of points = 448\nProcessing 73 - ear\n  Max number of points = 448\nProcessing 74 - elephant\n  Max number of points = 448\nProcessing 75 - envelope\n  Max number of points = 448\nProcessing 76 - eye\n  Max number of points = 448\nProcessing 77 - eyeglasses\n  Max number of points = 448\nProcessing 78 - face\n  Max number of points = 448\nProcessing 79 - fan\n  Max number of points = 448\nProcessing 80 - feather\n  Max number of points = 448\nProcessing 81 - fire hydrant\n  Max number of points = 448\nProcessing 82 - fish\n  Max number of points = 448\nProcessing 83 - flashlight\n  Max number of points = 448\nProcessing 84 - floor lamp\n  Max number of points = 448\nProcessing 85 - flower with stem\n  Max number of points = 448\nProcessing 86 - flying bird\n  Max number of points = 448\nProcessing 87 - flying saucer\n  Max number of points = 448\nProcessing 88 - foot\n  Max number of points = 448\nProcessing 89 - fork\n  Max number of points = 448\nProcessing 90 - frog\n  Max number of points = 448\nProcessing 91 - frying-pan\n  Max number of points = 448\nProcessing 92 - giraffe\n  Max number of points = 448\nProcessing 93 - grapes\n  Max number of points = 448\nProcessing 94 - grenade\n  Max number of points = 448\nProcessing 95 - guitar\n  Max number of points = 448\nProcessing 96 - hamburger\n  Max number of points = 448\nProcessing 97 - hammer\n  Max number of points = 448\nProcessing 98 - hand\n  Max number of points = 448\nProcessing 99 - harp\n  Max number of points = 448\nProcessing 100 - hat\n  Max number of points = 448\nProcessing 101 - head\n  Max number of points = 448\nProcessing 102 - head-phones\n  Max number of points = 448\nProcessing 103 - hedgehog\n  Max number of points = 448\nProcessing 104 - helicopter\n  Max number of points = 448\nProcessing 105 - helmet\n  Max number of points = 448\nProcessing 106 - horse\n  Max number of points = 448\nProcessing 107 - hot air balloon\n  Max number of points = 448\nProcessing 108 - hot-dog\n  Max number of points = 448\nProcessing 109 - hourglass\n  Max number of points = 448\nProcessing 110 - house\n  Max number of points = 448\nProcessing 111 - human-skeleton\n  Max number of points = 448\nProcessing 112 - ice-cream-cone\n  Max number of points = 448\nProcessing 113 - ipod\n  Max number of points = 448\nProcessing 114 - kangaroo\n  Max number of points = 448\nProcessing 115 - key\n  Max number of points = 448\nProcessing 116 - keyboard\n  Max number of points = 448\nProcessing 117 - knife\n  Max number of points = 448\nProcessing 118 - ladder\n  Max number of points = 448\nProcessing 119 - laptop\n  Max number of points = 448\nProcessing 120 - leaf\n  Max number of points = 448\nProcessing 121 - lightbulb\n  Max number of points = 448\nProcessing 122 - lighter\n  Max number of points = 448\nProcessing 123 - lion\n  Max number of points = 448\nProcessing 124 - lobster\n  Max number of points = 448\nProcessing 125 - loudspeaker\n  Max number of points = 448\nProcessing 126 - mailbox\n  Max number of points = 448\nProcessing 127 - megaphone\n  Max number of points = 448\nProcessing 128 - mermaid\n  Max number of points = 448\nProcessing 129 - microphone\n  Max number of points = 448\nProcessing 130 - microscope\n  Max number of points = 448\nProcessing 131 - monkey\n  Max number of points = 448\nProcessing 132 - moon\n  Max number of points = 448\nProcessing 133 - mosquito\n  Max number of points = 448\nProcessing 134 - motorbike\n  Max number of points = 448\nProcessing 135 - mouse (animal)\n  Max number of points = 448\nProcessing 136 - mouth\n  Max number of points = 448\nProcessing 137 - mug\n  Max number of points = 448\nProcessing 138 - mushroom\n  Max number of points = 448\nProcessing 139 - nose\n  Max number of points = 448\nProcessing 140 - octopus\n  Max number of points = 448\nProcessing 141 - owl\n  Max number of points = 448\nProcessing 142 - palm tree\n  Max number of points = 448\nProcessing 143 - panda\n  Max number of points = 448\nProcessing 144 - paper clip\n  Max number of points = 448\nProcessing 145 - parachute\n  Max number of points = 448\nProcessing 146 - parking meter\n  Max number of points = 448\nProcessing 147 - parrot\n  Max number of points = 448\nProcessing 148 - pear\n  Max number of points = 448\nProcessing 149 - pen\n  Max number of points = 448\nProcessing 150 - penguin\n  Max number of points = 448\nProcessing 151 - person sitting\n  Max number of points = 448\nProcessing 152 - person walking\n  Max number of points = 448\nProcessing 153 - piano\n  Max number of points = 448\nProcessing 154 - pickup truck\n  Max number of points = 448\nProcessing 155 - pig\n  Max number of points = 448\nProcessing 156 - pigeon\n  Max number of points = 448\nProcessing 157 - pineapple\n  Max number of points = 448\nProcessing 158 - pipe (for smoking)\n  Max number of points = 448\nProcessing 159 - pizza\n  Max number of points = 448\nProcessing 160 - potted plant\n  Max number of points = 448\nProcessing 161 - power outlet\n  Max number of points = 448\nProcessing 162 - present\n  Max number of points = 448\nProcessing 163 - pretzel\n  Max number of points = 448\nProcessing 164 - pumpkin\n  Max number of points = 448\nProcessing 165 - purse\n  Max number of points = 448\nProcessing 166 - rabbit\n  Max number of points = 448\nProcessing 167 - race car\n  Max number of points = 448\nProcessing 168 - radio\n  Max number of points = 448\nProcessing 169 - rainbow\n  Max number of points = 448\nProcessing 170 - revolver\n  Max number of points = 448\nProcessing 171 - rifle\n  Max number of points = 448\nProcessing 172 - rollerblades\n  Max number of points = 448\nProcessing 173 - rooster\n  Max number of points = 448\nProcessing 174 - sailboat\n  Max number of points = 448\nProcessing 175 - santa claus\n  Max number of points = 448\nProcessing 176 - satellite\n  Max number of points = 448\nProcessing 177 - satellite dish\n  Max number of points = 448\nProcessing 178 - saxophone\n  Max number of points = 448\nProcessing 179 - scissors\n  Max number of points = 448\nProcessing 180 - scorpion\n  Max number of points = 448\nProcessing 181 - screwdriver\n  Max number of points = 448\nProcessing 182 - sea turtle\n  Max number of points = 448\nProcessing 183 - seagull\n  Max number of points = 448\nProcessing 184 - shark\n  Max number of points = 448\nProcessing 185 - sheep\n  Max number of points = 448\nProcessing 186 - ship\n  Max number of points = 448\nProcessing 187 - shoe\n  Max number of points = 448\nProcessing 188 - shovel\n  Max number of points = 448\nProcessing 189 - skateboard\n  Max number of points = 448\nProcessing 190 - skull\n  Max number of points = 448\nProcessing 191 - skyscraper\n  Max number of points = 448\nProcessing 192 - snail\n  Max number of points = 448\nProcessing 193 - snake\n  Max number of points = 448\nProcessing 194 - snowboard\n  Max number of points = 448\nProcessing 195 - snowman\n  Max number of points = 448\nProcessing 196 - socks\n  Max number of points = 448\nProcessing 197 - space shuttle\n  Max number of points = 448\nProcessing 198 - speed-boat\n  Max number of points = 448\nProcessing 199 - spider\n  Max number of points = 448\nProcessing 200 - sponge bob\n  Max number of points = 448\nProcessing 201 - spoon\n  Max number of points = 448\nProcessing 202 - squirrel\n  Max number of points = 448\nProcessing 203 - standing bird\n  Max number of points = 448\nProcessing 204 - stapler\n  Max number of points = 448\nProcessing 205 - strawberry\n  Max number of points = 448\nProcessing 206 - streetlight\n  Max number of points = 448\nProcessing 207 - submarine\n  Max number of points = 448\nProcessing 208 - suitcase\n  Max number of points = 448\nProcessing 209 - sun\n  Max number of points = 448\nProcessing 210 - suv\n  Max number of points = 448\nProcessing 211 - swan\n  Max number of points = 448\nProcessing 212 - sword\n  Max number of points = 448\nProcessing 213 - syringe\n  Max number of points = 448\nProcessing 214 - t-shirt\n  Max number of points = 448\nProcessing 215 - table\n  Max number of points = 448\nProcessing 216 - tablelamp\n  Max number of points = 448\nProcessing 217 - teacup\n  Max number of points = 448\nProcessing 218 - teapot\n  Max number of points = 448\nProcessing 219 - teddy-bear\n  Max number of points = 448\nProcessing 220 - telephone\n  Max number of points = 448\nProcessing 221 - tennis-racket\n  Max number of points = 448\nProcessing 222 - tent\n  Max number of points = 448\nProcessing 223 - tiger\n  Max number of points = 448\nProcessing 224 - tire\n  Max number of points = 448\nProcessing 225 - toilet\n  Max number of points = 448\nProcessing 226 - tomato\n  Max number of points = 448\nProcessing 227 - tooth\n  Max number of points = 448\nProcessing 228 - toothbrush\n  Max number of points = 448\nProcessing 229 - tractor\n  Max number of points = 448\nProcessing 230 - traffic light\n  Max number of points = 448\nProcessing 231 - train\n  Max number of points = 448\nProcessing 232 - tree\n  Max number of points = 448\nProcessing 233 - trombone\n  Max number of points = 448\nProcessing 234 - trousers\n  Max number of points = 448\nProcessing 235 - truck\n  Max number of points = 448\nProcessing 236 - trumpet\n  Max number of points = 448\nProcessing 237 - tv\n  Max number of points = 448\nProcessing 238 - umbrella\n  Max number of points = 448\nProcessing 239 - van\n  Max number of points = 448\nProcessing 240 - vase\n  Max number of points = 448\nProcessing 241 - violin\n  Max number of points = 448\nProcessing 242 - walkie talkie\n  Max number of points = 448\nProcessing 243 - wheel\n  Max number of points = 448\nProcessing 244 - wheelbarrow\n  Max number of points = 448\nProcessing 245 - windmill\n  Max number of points = 448\nProcessing 246 - wine-bottle\n  Max number of points = 448\nProcessing 247 - wineglass\n  Max number of points = 448\nProcessing 248 - wrist-watch\n  Max number of points = 448\nProcessing 249 - zebra\n  Max number of points = 448\nMax number of points = 448\n"
    }
   ],
   "source": [
    "categories = list_categories(dataset_root)\n",
    "print('Number of categories: {}'.format(len(categories)))\n",
    "\n",
    "folds = [list() for i in range(num_folds)]\n",
    "sketches = list()\n",
    "cvxhulls = list()\n",
    "\n",
    "MAX_POINTS = 448\n",
    "\n",
    "max_num_points = 0\n",
    "rdp_eps = 0.02\n",
    "\n",
    "for cid, category in enumerate(categories):\n",
    "    print('Processing {} - {}'.format(cid, category))\n",
    "    \n",
    "    cat_sketches = list()\n",
    "    cat_cvxhulls = list()\n",
    "    svg_files = list_svg_files(os.path.join(dataset_root, category))\n",
    "    for svg_file in svg_files:\n",
    "        try:\n",
    "            strokes = SketchUtil.parse_tuberlin_svg_file(os.path.join(dataset_root, category, svg_file))\n",
    "        except Exception as e:\n",
    "            print('Something wrong with {}/{}'.format(category, svg_file))\n",
    "            raise e\n",
    "\n",
    "        strokes = SketchUtil.normalize_and_simplify(strokes, MAX_POINTS, rdp_eps)\n",
    "        assert strokes is not None\n",
    "        points3 = strokes_to_points3(strokes)\n",
    "        \n",
    "        num_points = len(points3)\n",
    "        if num_points > max_num_points:\n",
    "            max_num_points = num_points\n",
    "        if num_points > 2:\n",
    "            cat_cvxhulls.append(SketchUtil.convex_hull_padded(points3[:, 0:2]))\n",
    "        else:\n",
    "            cat_cvxhulls.append(None)\n",
    "        cat_sketches.append(points3)\n",
    "    \n",
    "    sketches.append(cat_sketches)\n",
    "    cvxhulls.append(cat_cvxhulls)\n",
    "    \n",
    "    print('  Max number of points = {}'.format(max_num_points))\n",
    "    \n",
    "    # Fold split\n",
    "    idxes = np.arange(len(cat_sketches))\n",
    "    np.random.shuffle(idxes)\n",
    "    idxes_split = np.array_split(idxes, num_folds)\n",
    "    for fidx in range(num_folds):\n",
    "        folds[fidx].extend(list(zip([cid] * len(idxes_split[fidx]), idxes_split[fidx].tolist())))\n",
    "\n",
    "print('Max number of points = {}'.format(max_num_points))\n",
    "    \n",
    "to_save = {'categories': categories,\n",
    "           'sketches': sketches,\n",
    "           'convex_hulls': cvxhulls,\n",
    "           'folds': folds,\n",
    "           'max_num_points': max_num_points}\n",
    "with open(os.path.join(output_root, 'TUBerlin.pkl'), 'wb') as fh:\n",
    "    pickle.dump(to_save, fh, pickle.HIGHEST_PROTOCOL) \n"
   ]
  },
  {
   "cell_type": "code",
   "execution_count": null,
   "metadata": {
    "collapsed": true
   },
   "outputs": [],
   "source": []
  }
 ],
 "metadata": {
  "kernelspec": {
   "display_name": "Python 3.7.4 64-bit ('pytorch': conda)",
   "language": "python",
   "name": "python37464bitpytorchconda19b5c75a78b44c8b8a5b87e3072c8ca2"
  },
  "language_info": {
   "codemirror_mode": {
    "name": "ipython",
    "version": 3
   },
   "file_extension": ".py",
   "mimetype": "text/x-python",
   "name": "python",
   "nbconvert_exporter": "python",
   "pygments_lexer": "ipython3",
   "version": "3.7.4-final"
  }
 },
 "nbformat": 4,
 "nbformat_minor": 2
}